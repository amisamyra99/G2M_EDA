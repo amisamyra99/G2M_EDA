{
 "cells": [
  {
   "cell_type": "markdown",
   "id": "34eb2cd7",
   "metadata": {},
   "source": [
    "# G2M investigation on 2 cab company"
   ]
  },
  {
   "cell_type": "markdown",
   "id": "e72c8ce4",
   "metadata": {},
   "source": [
    "### Business Understanding"
   ]
  },
  {
   "cell_type": "markdown",
   "id": "6821225a",
   "metadata": {},
   "source": [
    ">You should fully investigate and understand each data set.\n",
    "\n",
    "    - Review the Source Documentation\n",
    "    - Understand the field names and data types\n",
    "    - Identify relationships across the files\n",
    "    - Field/feature transformations\n",
    "    - Determine which files should be joined versus which ones should be appended\n",
    "    - Create master data and explain the relationship\n",
    "    - Identify and remove duplicates\n",
    "    - Perform other analysis like NA value and outlier detection\n"
   ]
  },
  {
   "cell_type": "code",
   "execution_count": 1,
   "id": "79fdb6c3",
   "metadata": {},
   "outputs": [],
   "source": [
    "import pandas as pd\n",
    "import matplotlib.pyplot as plt\n",
    "import seaborn as sns\n",
    "import numpy as np"
   ]
  },
  {
   "cell_type": "markdown",
   "id": "c12ad4ed",
   "metadata": {},
   "source": [
    "### Dataset infomation"
   ]
  },
  {
   "cell_type": "markdown",
   "id": "505609ff",
   "metadata": {},
   "source": [
    "#### Datastet Source : https://github.com/DataGlacier/DataSets\n",
    "        \n",
    "> Cab_Data.csv – this file includes details of transaction for 2 cab companies\n",
    "\n",
    "    fields:\n",
    "    - Transaction ID  : Id of the transaction \n",
    "    - Date of Travel  : date of the trip\n",
    "    - Company  : Company that own the cab       \n",
    "    - City : city where  the cab offer is service       \n",
    "    - KM Travelled : distance travelled in kilometer  \n",
    "    - Price Charged : amount charged from the customer\n",
    "    - Cost of Trip : normal price that the customer should pay   \n",
    "\n",
    "> Customer_ID.csv – this is a mapping table that contains a unique identifier which links the customer’s demographic details\n",
    "\n",
    "    fields:\n",
    "    - Customer ID' : : Id of the Customer \n",
    "    - 'Gender' : gender of the customer Male of femel\n",
    "    - 'Age' :  18 - 65 years old\n",
    "    - 'Income (USD/Month) : 2000 - 35000 usd /month\n",
    "\n",
    "\n",
    "> Transaction_ID.csv – this is a mapping table that contains transaction to customer mapping and payment mode\n",
    "\n",
    "    fields:\n",
    "    - 'Transaction ID' : Id of the transaction \n",
    "    - 'Customer ID' : Id of the Customer \n",
    "    - 'Payment_Mode : 'Card' or 'Cash'\n",
    "\n",
    "> City.csv – this file contains list of US cities, their population and number of cab users\n",
    "\n",
    "    fields:\n",
    "    - 'City' : name of 20 different city of USA (['NEW YORK NY', 'CHICAGO IL', 'LOS ANGELES CA', 'MIAMI FL',\n",
    "       'SILICON VALLEY', 'ORANGE COUNTY', 'SAN DIEGO CA', 'PHOENIX AZ',\n",
    "       'DALLAS TX', 'ATLANTA GA', 'DENVER CO', 'AUSTIN TX', 'SEATTLE WA',\n",
    "       'TUCSON AZ', 'SAN FRANCISCO CA', 'SACRAMENTO CA', 'PITTSBURGH PA',\n",
    "       'WASHINGTON DC', 'NASHVILLE TN', 'BOSTON MA']\n",
    "       \n",
    "    - 'Population' : number of people living by city\n",
    "    \n",
    "    - 'Users' : number of user using the cab by city"
   ]
  },
  {
   "cell_type": "markdown",
   "id": "3cdedd42",
   "metadata": {},
   "source": [
    "## Data collection and preparation"
   ]
  },
  {
   "cell_type": "markdown",
   "id": "87fdc18d",
   "metadata": {},
   "source": [
    "### loading dataset"
   ]
  },
  {
   "cell_type": "code",
   "execution_count": 2,
   "id": "c99f5417",
   "metadata": {},
   "outputs": [],
   "source": [
    "cab=pd.read_csv('DataSets-main/Cab_Data.csv')"
   ]
  },
  {
   "cell_type": "code",
   "execution_count": 3,
   "id": "c2ecfa4e",
   "metadata": {},
   "outputs": [
    {
     "data": {
      "text/html": [
       "<div>\n",
       "<style scoped>\n",
       "    .dataframe tbody tr th:only-of-type {\n",
       "        vertical-align: middle;\n",
       "    }\n",
       "\n",
       "    .dataframe tbody tr th {\n",
       "        vertical-align: top;\n",
       "    }\n",
       "\n",
       "    .dataframe thead th {\n",
       "        text-align: right;\n",
       "    }\n",
       "</style>\n",
       "<table border=\"1\" class=\"dataframe\">\n",
       "  <thead>\n",
       "    <tr style=\"text-align: right;\">\n",
       "      <th></th>\n",
       "      <th>Transaction ID</th>\n",
       "      <th>Date of Travel</th>\n",
       "      <th>Company</th>\n",
       "      <th>City</th>\n",
       "      <th>KM Travelled</th>\n",
       "      <th>Price Charged</th>\n",
       "      <th>Cost of Trip</th>\n",
       "    </tr>\n",
       "  </thead>\n",
       "  <tbody>\n",
       "    <tr>\n",
       "      <th>0</th>\n",
       "      <td>10000011</td>\n",
       "      <td>01/08/16</td>\n",
       "      <td>Pink Cab</td>\n",
       "      <td>ATLANTA GA</td>\n",
       "      <td>30.45</td>\n",
       "      <td>370.95</td>\n",
       "      <td>313.635</td>\n",
       "    </tr>\n",
       "    <tr>\n",
       "      <th>1</th>\n",
       "      <td>10000012</td>\n",
       "      <td>01/06/16</td>\n",
       "      <td>Pink Cab</td>\n",
       "      <td>ATLANTA GA</td>\n",
       "      <td>28.62</td>\n",
       "      <td>358.52</td>\n",
       "      <td>334.854</td>\n",
       "    </tr>\n",
       "    <tr>\n",
       "      <th>2</th>\n",
       "      <td>10000013</td>\n",
       "      <td>01/02/16</td>\n",
       "      <td>Pink Cab</td>\n",
       "      <td>ATLANTA GA</td>\n",
       "      <td>9.04</td>\n",
       "      <td>125.20</td>\n",
       "      <td>97.632</td>\n",
       "    </tr>\n",
       "    <tr>\n",
       "      <th>3</th>\n",
       "      <td>10000014</td>\n",
       "      <td>01/07/16</td>\n",
       "      <td>Pink Cab</td>\n",
       "      <td>ATLANTA GA</td>\n",
       "      <td>33.17</td>\n",
       "      <td>377.40</td>\n",
       "      <td>351.602</td>\n",
       "    </tr>\n",
       "    <tr>\n",
       "      <th>4</th>\n",
       "      <td>10000015</td>\n",
       "      <td>01/03/16</td>\n",
       "      <td>Pink Cab</td>\n",
       "      <td>ATLANTA GA</td>\n",
       "      <td>8.73</td>\n",
       "      <td>114.62</td>\n",
       "      <td>97.776</td>\n",
       "    </tr>\n",
       "  </tbody>\n",
       "</table>\n",
       "</div>"
      ],
      "text/plain": [
       "   Transaction ID Date of Travel   Company        City  KM Travelled  \\\n",
       "0        10000011       01/08/16  Pink Cab  ATLANTA GA         30.45   \n",
       "1        10000012       01/06/16  Pink Cab  ATLANTA GA         28.62   \n",
       "2        10000013       01/02/16  Pink Cab  ATLANTA GA          9.04   \n",
       "3        10000014       01/07/16  Pink Cab  ATLANTA GA         33.17   \n",
       "4        10000015       01/03/16  Pink Cab  ATLANTA GA          8.73   \n",
       "\n",
       "   Price Charged  Cost of Trip  \n",
       "0         370.95       313.635  \n",
       "1         358.52       334.854  \n",
       "2         125.20        97.632  \n",
       "3         377.40       351.602  \n",
       "4         114.62        97.776  "
      ]
     },
     "execution_count": 3,
     "metadata": {},
     "output_type": "execute_result"
    }
   ],
   "source": [
    "cab.head(5)"
   ]
  },
  {
   "cell_type": "code",
   "execution_count": 4,
   "id": "25ff7160",
   "metadata": {},
   "outputs": [
    {
     "name": "stdout",
     "output_type": "stream",
     "text": [
      "<class 'pandas.core.frame.DataFrame'>\n",
      "RangeIndex: 359392 entries, 0 to 359391\n",
      "Data columns (total 7 columns):\n",
      " #   Column          Non-Null Count   Dtype  \n",
      "---  ------          --------------   -----  \n",
      " 0   Transaction ID  359392 non-null  int64  \n",
      " 1   Date of Travel  359392 non-null  object \n",
      " 2   Company         359392 non-null  object \n",
      " 3   City            359392 non-null  object \n",
      " 4   KM Travelled    359392 non-null  float64\n",
      " 5   Price Charged   359392 non-null  float64\n",
      " 6   Cost of Trip    359392 non-null  float64\n",
      "dtypes: float64(3), int64(1), object(3)\n",
      "memory usage: 19.2+ MB\n"
     ]
    }
   ],
   "source": [
    "cab.info()"
   ]
  },
  {
   "cell_type": "markdown",
   "id": "3e151e28",
   "metadata": {},
   "source": [
    "> there is not null value"
   ]
  },
  {
   "cell_type": "code",
   "execution_count": 5,
   "id": "8d8389c9",
   "metadata": {},
   "outputs": [
    {
     "data": {
      "text/plain": [
       "0"
      ]
     },
     "execution_count": 5,
     "metadata": {},
     "output_type": "execute_result"
    }
   ],
   "source": [
    "cab.duplicated().sum()"
   ]
  },
  {
   "cell_type": "code",
   "execution_count": 6,
   "id": "a07f0f55",
   "metadata": {},
   "outputs": [],
   "source": [
    "city=pd.read_csv('DataSets-main/City.csv')"
   ]
  },
  {
   "cell_type": "code",
   "execution_count": 7,
   "id": "fc74924b",
   "metadata": {},
   "outputs": [
    {
     "data": {
      "text/html": [
       "<div>\n",
       "<style scoped>\n",
       "    .dataframe tbody tr th:only-of-type {\n",
       "        vertical-align: middle;\n",
       "    }\n",
       "\n",
       "    .dataframe tbody tr th {\n",
       "        vertical-align: top;\n",
       "    }\n",
       "\n",
       "    .dataframe thead th {\n",
       "        text-align: right;\n",
       "    }\n",
       "</style>\n",
       "<table border=\"1\" class=\"dataframe\">\n",
       "  <thead>\n",
       "    <tr style=\"text-align: right;\">\n",
       "      <th></th>\n",
       "      <th>City</th>\n",
       "      <th>Population</th>\n",
       "      <th>Users</th>\n",
       "    </tr>\n",
       "  </thead>\n",
       "  <tbody>\n",
       "    <tr>\n",
       "      <th>0</th>\n",
       "      <td>NEW YORK NY</td>\n",
       "      <td>8,405,837</td>\n",
       "      <td>302,149</td>\n",
       "    </tr>\n",
       "    <tr>\n",
       "      <th>1</th>\n",
       "      <td>CHICAGO IL</td>\n",
       "      <td>1,955,130</td>\n",
       "      <td>164,468</td>\n",
       "    </tr>\n",
       "    <tr>\n",
       "      <th>2</th>\n",
       "      <td>LOS ANGELES CA</td>\n",
       "      <td>1,595,037</td>\n",
       "      <td>144,132</td>\n",
       "    </tr>\n",
       "    <tr>\n",
       "      <th>3</th>\n",
       "      <td>MIAMI FL</td>\n",
       "      <td>1,339,155</td>\n",
       "      <td>17,675</td>\n",
       "    </tr>\n",
       "    <tr>\n",
       "      <th>4</th>\n",
       "      <td>SILICON VALLEY</td>\n",
       "      <td>1,177,609</td>\n",
       "      <td>27,247</td>\n",
       "    </tr>\n",
       "  </tbody>\n",
       "</table>\n",
       "</div>"
      ],
      "text/plain": [
       "             City   Population      Users\n",
       "0     NEW YORK NY   8,405,837    302,149 \n",
       "1      CHICAGO IL   1,955,130    164,468 \n",
       "2  LOS ANGELES CA   1,595,037    144,132 \n",
       "3        MIAMI FL   1,339,155     17,675 \n",
       "4  SILICON VALLEY   1,177,609     27,247 "
      ]
     },
     "execution_count": 7,
     "metadata": {},
     "output_type": "execute_result"
    }
   ],
   "source": [
    "city.head(5)"
   ]
  },
  {
   "cell_type": "code",
   "execution_count": 8,
   "id": "b7eff397",
   "metadata": {},
   "outputs": [
    {
     "name": "stdout",
     "output_type": "stream",
     "text": [
      "<class 'pandas.core.frame.DataFrame'>\n",
      "RangeIndex: 20 entries, 0 to 19\n",
      "Data columns (total 3 columns):\n",
      " #   Column      Non-Null Count  Dtype \n",
      "---  ------      --------------  ----- \n",
      " 0   City        20 non-null     object\n",
      " 1   Population  20 non-null     object\n",
      " 2   Users       20 non-null     object\n",
      "dtypes: object(3)\n",
      "memory usage: 608.0+ bytes\n"
     ]
    }
   ],
   "source": [
    "city.info()"
   ]
  },
  {
   "cell_type": "markdown",
   "id": "4cff23b6",
   "metadata": {},
   "source": [
    "> there is not null value"
   ]
  },
  {
   "cell_type": "code",
   "execution_count": 9,
   "id": "640bf613",
   "metadata": {},
   "outputs": [
    {
     "data": {
      "text/html": [
       "<div>\n",
       "<style scoped>\n",
       "    .dataframe tbody tr th:only-of-type {\n",
       "        vertical-align: middle;\n",
       "    }\n",
       "\n",
       "    .dataframe tbody tr th {\n",
       "        vertical-align: top;\n",
       "    }\n",
       "\n",
       "    .dataframe thead th {\n",
       "        text-align: right;\n",
       "    }\n",
       "</style>\n",
       "<table border=\"1\" class=\"dataframe\">\n",
       "  <thead>\n",
       "    <tr style=\"text-align: right;\">\n",
       "      <th></th>\n",
       "      <th>City</th>\n",
       "      <th>Population</th>\n",
       "      <th>Users</th>\n",
       "    </tr>\n",
       "  </thead>\n",
       "  <tbody>\n",
       "    <tr>\n",
       "      <th>count</th>\n",
       "      <td>20</td>\n",
       "      <td>20</td>\n",
       "      <td>20</td>\n",
       "    </tr>\n",
       "    <tr>\n",
       "      <th>unique</th>\n",
       "      <td>20</td>\n",
       "      <td>20</td>\n",
       "      <td>20</td>\n",
       "    </tr>\n",
       "    <tr>\n",
       "      <th>top</th>\n",
       "      <td>NEW YORK NY</td>\n",
       "      <td>8,405,837</td>\n",
       "      <td>302,149</td>\n",
       "    </tr>\n",
       "    <tr>\n",
       "      <th>freq</th>\n",
       "      <td>1</td>\n",
       "      <td>1</td>\n",
       "      <td>1</td>\n",
       "    </tr>\n",
       "  </tbody>\n",
       "</table>\n",
       "</div>"
      ],
      "text/plain": [
       "               City   Population      Users\n",
       "count            20           20         20\n",
       "unique           20           20         20\n",
       "top     NEW YORK NY   8,405,837    302,149 \n",
       "freq              1            1          1"
      ]
     },
     "execution_count": 9,
     "metadata": {},
     "output_type": "execute_result"
    }
   ],
   "source": [
    "city.describe()"
   ]
  },
  {
   "cell_type": "code",
   "execution_count": 10,
   "id": "b5f3b55f",
   "metadata": {},
   "outputs": [
    {
     "data": {
      "text/plain": [
       "0"
      ]
     },
     "execution_count": 10,
     "metadata": {},
     "output_type": "execute_result"
    }
   ],
   "source": [
    "city.duplicated().sum()"
   ]
  },
  {
   "cell_type": "code",
   "execution_count": 11,
   "id": "66cc3a51",
   "metadata": {},
   "outputs": [
    {
     "data": {
      "text/plain": [
       "array(['NEW YORK NY', 'CHICAGO IL', 'LOS ANGELES CA', 'MIAMI FL',\n",
       "       'SILICON VALLEY', 'ORANGE COUNTY', 'SAN DIEGO CA', 'PHOENIX AZ',\n",
       "       'DALLAS TX', 'ATLANTA GA', 'DENVER CO', 'AUSTIN TX', 'SEATTLE WA',\n",
       "       'TUCSON AZ', 'SAN FRANCISCO CA', 'SACRAMENTO CA', 'PITTSBURGH PA',\n",
       "       'WASHINGTON DC', 'NASHVILLE TN', 'BOSTON MA'], dtype=object)"
      ]
     },
     "execution_count": 11,
     "metadata": {},
     "output_type": "execute_result"
    }
   ],
   "source": [
    "city.City.unique()"
   ]
  },
  {
   "cell_type": "code",
   "execution_count": 12,
   "id": "287e9fdc",
   "metadata": {},
   "outputs": [
    {
     "data": {
      "text/plain": [
       "20"
      ]
     },
     "execution_count": 12,
     "metadata": {},
     "output_type": "execute_result"
    }
   ],
   "source": [
    "city.City.nunique()"
   ]
  },
  {
   "cell_type": "code",
   "execution_count": 13,
   "id": "c968cbc8",
   "metadata": {},
   "outputs": [],
   "source": [
    "customer=pd.read_csv('DataSets-main/Customer_ID.csv')"
   ]
  },
  {
   "cell_type": "code",
   "execution_count": 14,
   "id": "d9b9a167",
   "metadata": {},
   "outputs": [
    {
     "data": {
      "text/html": [
       "<div>\n",
       "<style scoped>\n",
       "    .dataframe tbody tr th:only-of-type {\n",
       "        vertical-align: middle;\n",
       "    }\n",
       "\n",
       "    .dataframe tbody tr th {\n",
       "        vertical-align: top;\n",
       "    }\n",
       "\n",
       "    .dataframe thead th {\n",
       "        text-align: right;\n",
       "    }\n",
       "</style>\n",
       "<table border=\"1\" class=\"dataframe\">\n",
       "  <thead>\n",
       "    <tr style=\"text-align: right;\">\n",
       "      <th></th>\n",
       "      <th>Customer ID</th>\n",
       "      <th>Gender</th>\n",
       "      <th>Age</th>\n",
       "      <th>Income (USD/Month)</th>\n",
       "    </tr>\n",
       "  </thead>\n",
       "  <tbody>\n",
       "    <tr>\n",
       "      <th>0</th>\n",
       "      <td>29290</td>\n",
       "      <td>Male</td>\n",
       "      <td>28</td>\n",
       "      <td>10813</td>\n",
       "    </tr>\n",
       "    <tr>\n",
       "      <th>1</th>\n",
       "      <td>27703</td>\n",
       "      <td>Male</td>\n",
       "      <td>27</td>\n",
       "      <td>9237</td>\n",
       "    </tr>\n",
       "    <tr>\n",
       "      <th>2</th>\n",
       "      <td>28712</td>\n",
       "      <td>Male</td>\n",
       "      <td>53</td>\n",
       "      <td>11242</td>\n",
       "    </tr>\n",
       "    <tr>\n",
       "      <th>3</th>\n",
       "      <td>28020</td>\n",
       "      <td>Male</td>\n",
       "      <td>23</td>\n",
       "      <td>23327</td>\n",
       "    </tr>\n",
       "    <tr>\n",
       "      <th>4</th>\n",
       "      <td>27182</td>\n",
       "      <td>Male</td>\n",
       "      <td>33</td>\n",
       "      <td>8536</td>\n",
       "    </tr>\n",
       "  </tbody>\n",
       "</table>\n",
       "</div>"
      ],
      "text/plain": [
       "   Customer ID Gender  Age  Income (USD/Month)\n",
       "0        29290   Male   28               10813\n",
       "1        27703   Male   27                9237\n",
       "2        28712   Male   53               11242\n",
       "3        28020   Male   23               23327\n",
       "4        27182   Male   33                8536"
      ]
     },
     "execution_count": 14,
     "metadata": {},
     "output_type": "execute_result"
    }
   ],
   "source": [
    "customer.head(5)"
   ]
  },
  {
   "cell_type": "code",
   "execution_count": 15,
   "id": "1aad473a",
   "metadata": {},
   "outputs": [
    {
     "name": "stdout",
     "output_type": "stream",
     "text": [
      "<class 'pandas.core.frame.DataFrame'>\n",
      "RangeIndex: 49171 entries, 0 to 49170\n",
      "Data columns (total 4 columns):\n",
      " #   Column              Non-Null Count  Dtype \n",
      "---  ------              --------------  ----- \n",
      " 0   Customer ID         49171 non-null  int64 \n",
      " 1   Gender              49171 non-null  object\n",
      " 2   Age                 49171 non-null  int64 \n",
      " 3   Income (USD/Month)  49171 non-null  int64 \n",
      "dtypes: int64(3), object(1)\n",
      "memory usage: 1.5+ MB\n"
     ]
    }
   ],
   "source": [
    "customer.info()"
   ]
  },
  {
   "cell_type": "markdown",
   "id": "aaac5ce1",
   "metadata": {},
   "source": [
    "> there is not null value"
   ]
  },
  {
   "cell_type": "code",
   "execution_count": 16,
   "id": "a0ba4e12",
   "metadata": {},
   "outputs": [
    {
     "data": {
      "text/html": [
       "<div>\n",
       "<style scoped>\n",
       "    .dataframe tbody tr th:only-of-type {\n",
       "        vertical-align: middle;\n",
       "    }\n",
       "\n",
       "    .dataframe tbody tr th {\n",
       "        vertical-align: top;\n",
       "    }\n",
       "\n",
       "    .dataframe thead th {\n",
       "        text-align: right;\n",
       "    }\n",
       "</style>\n",
       "<table border=\"1\" class=\"dataframe\">\n",
       "  <thead>\n",
       "    <tr style=\"text-align: right;\">\n",
       "      <th></th>\n",
       "      <th>Customer ID</th>\n",
       "      <th>Age</th>\n",
       "      <th>Income (USD/Month)</th>\n",
       "    </tr>\n",
       "  </thead>\n",
       "  <tbody>\n",
       "    <tr>\n",
       "      <th>count</th>\n",
       "      <td>49171.000000</td>\n",
       "      <td>49171.000000</td>\n",
       "      <td>49171.000000</td>\n",
       "    </tr>\n",
       "    <tr>\n",
       "      <th>mean</th>\n",
       "      <td>28398.252283</td>\n",
       "      <td>35.363121</td>\n",
       "      <td>15015.631856</td>\n",
       "    </tr>\n",
       "    <tr>\n",
       "      <th>std</th>\n",
       "      <td>17714.137333</td>\n",
       "      <td>12.599066</td>\n",
       "      <td>8002.208253</td>\n",
       "    </tr>\n",
       "    <tr>\n",
       "      <th>min</th>\n",
       "      <td>1.000000</td>\n",
       "      <td>18.000000</td>\n",
       "      <td>2000.000000</td>\n",
       "    </tr>\n",
       "    <tr>\n",
       "      <th>25%</th>\n",
       "      <td>12654.500000</td>\n",
       "      <td>25.000000</td>\n",
       "      <td>8289.500000</td>\n",
       "    </tr>\n",
       "    <tr>\n",
       "      <th>50%</th>\n",
       "      <td>27631.000000</td>\n",
       "      <td>33.000000</td>\n",
       "      <td>14656.000000</td>\n",
       "    </tr>\n",
       "    <tr>\n",
       "      <th>75%</th>\n",
       "      <td>43284.500000</td>\n",
       "      <td>42.000000</td>\n",
       "      <td>21035.000000</td>\n",
       "    </tr>\n",
       "    <tr>\n",
       "      <th>max</th>\n",
       "      <td>60000.000000</td>\n",
       "      <td>65.000000</td>\n",
       "      <td>35000.000000</td>\n",
       "    </tr>\n",
       "  </tbody>\n",
       "</table>\n",
       "</div>"
      ],
      "text/plain": [
       "        Customer ID           Age  Income (USD/Month)\n",
       "count  49171.000000  49171.000000        49171.000000\n",
       "mean   28398.252283     35.363121        15015.631856\n",
       "std    17714.137333     12.599066         8002.208253\n",
       "min        1.000000     18.000000         2000.000000\n",
       "25%    12654.500000     25.000000         8289.500000\n",
       "50%    27631.000000     33.000000        14656.000000\n",
       "75%    43284.500000     42.000000        21035.000000\n",
       "max    60000.000000     65.000000        35000.000000"
      ]
     },
     "execution_count": 16,
     "metadata": {},
     "output_type": "execute_result"
    }
   ],
   "source": [
    "customer.describe()"
   ]
  },
  {
   "cell_type": "code",
   "execution_count": 17,
   "id": "23301a75",
   "metadata": {},
   "outputs": [
    {
     "data": {
      "text/plain": [
       "0"
      ]
     },
     "execution_count": 17,
     "metadata": {},
     "output_type": "execute_result"
    }
   ],
   "source": [
    "customer.duplicated().sum()"
   ]
  },
  {
   "cell_type": "code",
   "execution_count": 18,
   "id": "318babc3",
   "metadata": {},
   "outputs": [],
   "source": [
    "Transaction=pd.read_csv('DataSets-main/Transaction_ID.csv')"
   ]
  },
  {
   "cell_type": "code",
   "execution_count": 19,
   "id": "d3b79aa1",
   "metadata": {},
   "outputs": [
    {
     "data": {
      "text/html": [
       "<div>\n",
       "<style scoped>\n",
       "    .dataframe tbody tr th:only-of-type {\n",
       "        vertical-align: middle;\n",
       "    }\n",
       "\n",
       "    .dataframe tbody tr th {\n",
       "        vertical-align: top;\n",
       "    }\n",
       "\n",
       "    .dataframe thead th {\n",
       "        text-align: right;\n",
       "    }\n",
       "</style>\n",
       "<table border=\"1\" class=\"dataframe\">\n",
       "  <thead>\n",
       "    <tr style=\"text-align: right;\">\n",
       "      <th></th>\n",
       "      <th>Transaction ID</th>\n",
       "      <th>Customer ID</th>\n",
       "      <th>Payment_Mode</th>\n",
       "    </tr>\n",
       "  </thead>\n",
       "  <tbody>\n",
       "    <tr>\n",
       "      <th>0</th>\n",
       "      <td>10000011</td>\n",
       "      <td>29290</td>\n",
       "      <td>Card</td>\n",
       "    </tr>\n",
       "    <tr>\n",
       "      <th>1</th>\n",
       "      <td>10000012</td>\n",
       "      <td>27703</td>\n",
       "      <td>Card</td>\n",
       "    </tr>\n",
       "    <tr>\n",
       "      <th>2</th>\n",
       "      <td>10000013</td>\n",
       "      <td>28712</td>\n",
       "      <td>Cash</td>\n",
       "    </tr>\n",
       "    <tr>\n",
       "      <th>3</th>\n",
       "      <td>10000014</td>\n",
       "      <td>28020</td>\n",
       "      <td>Cash</td>\n",
       "    </tr>\n",
       "    <tr>\n",
       "      <th>4</th>\n",
       "      <td>10000015</td>\n",
       "      <td>27182</td>\n",
       "      <td>Card</td>\n",
       "    </tr>\n",
       "  </tbody>\n",
       "</table>\n",
       "</div>"
      ],
      "text/plain": [
       "   Transaction ID  Customer ID Payment_Mode\n",
       "0        10000011        29290         Card\n",
       "1        10000012        27703         Card\n",
       "2        10000013        28712         Cash\n",
       "3        10000014        28020         Cash\n",
       "4        10000015        27182         Card"
      ]
     },
     "execution_count": 19,
     "metadata": {},
     "output_type": "execute_result"
    }
   ],
   "source": [
    "Transaction.head(5)"
   ]
  },
  {
   "cell_type": "code",
   "execution_count": 20,
   "id": "822a53a7",
   "metadata": {},
   "outputs": [
    {
     "name": "stdout",
     "output_type": "stream",
     "text": [
      "<class 'pandas.core.frame.DataFrame'>\n",
      "RangeIndex: 440098 entries, 0 to 440097\n",
      "Data columns (total 3 columns):\n",
      " #   Column          Non-Null Count   Dtype \n",
      "---  ------          --------------   ----- \n",
      " 0   Transaction ID  440098 non-null  int64 \n",
      " 1   Customer ID     440098 non-null  int64 \n",
      " 2   Payment_Mode    440098 non-null  object\n",
      "dtypes: int64(2), object(1)\n",
      "memory usage: 10.1+ MB\n"
     ]
    }
   ],
   "source": [
    "Transaction.info()"
   ]
  },
  {
   "cell_type": "markdown",
   "id": "9f843a5b",
   "metadata": {},
   "source": [
    "> there is not null value"
   ]
  },
  {
   "cell_type": "code",
   "execution_count": 21,
   "id": "f5ae51b7",
   "metadata": {},
   "outputs": [
    {
     "data": {
      "text/plain": [
       "Index(['Transaction ID', 'Customer ID', 'Payment_Mode'], dtype='object')"
      ]
     },
     "execution_count": 21,
     "metadata": {},
     "output_type": "execute_result"
    }
   ],
   "source": [
    "Transaction.columns"
   ]
  },
  {
   "cell_type": "code",
   "execution_count": 22,
   "id": "afe63250",
   "metadata": {},
   "outputs": [
    {
     "data": {
      "text/plain": [
       "array(['Card', 'Cash'], dtype=object)"
      ]
     },
     "execution_count": 22,
     "metadata": {},
     "output_type": "execute_result"
    }
   ],
   "source": [
    "Transaction.Payment_Mode.unique()"
   ]
  },
  {
   "cell_type": "code",
   "execution_count": 23,
   "id": "76b71f7e",
   "metadata": {},
   "outputs": [
    {
     "data": {
      "text/plain": [
       "0"
      ]
     },
     "execution_count": 23,
     "metadata": {},
     "output_type": "execute_result"
    }
   ],
   "source": [
    "Transaction.duplicated().sum()"
   ]
  },
  {
   "cell_type": "markdown",
   "id": "d45c7474",
   "metadata": {},
   "source": [
    "cab \n",
    "- Date of Travel have to be in datetime format \n",
    "\n",
    "city\n",
    "- delete the ',' and convert from population and user  and convert then into integer format\n",
    "\n",
    "- TransactionID an cab_data coulb be join"
   ]
  },
  {
   "cell_type": "markdown",
   "id": "306a3723",
   "metadata": {},
   "source": [
    "### Data Cleaning"
   ]
  },
  {
   "cell_type": "code",
   "execution_count": 24,
   "id": "f4200857",
   "metadata": {},
   "outputs": [],
   "source": [
    "cab.columns = [col.replace(' ', '_') for col in cab.columns]"
   ]
  },
  {
   "cell_type": "code",
   "execution_count": 25,
   "id": "20aa98d9",
   "metadata": {},
   "outputs": [
    {
     "data": {
      "text/plain": [
       "Index(['Transaction_ID', 'Date_of_Travel', 'Company', 'City', 'KM_Travelled',\n",
       "       'Price_Charged', 'Cost_of_Trip'],\n",
       "      dtype='object')"
      ]
     },
     "execution_count": 25,
     "metadata": {},
     "output_type": "execute_result"
    }
   ],
   "source": [
    "cab.columns"
   ]
  },
  {
   "cell_type": "markdown",
   "id": "cb5abe2d",
   "metadata": {},
   "source": [
    "<span style=\"font-size: 14pt; font-weight: bold; color:red\">1-Date of Travel have to be in datetime format </span>"
   ]
  },
  {
   "cell_type": "code",
   "execution_count": 26,
   "id": "85b9c693",
   "metadata": {},
   "outputs": [],
   "source": [
    "cab['Date_of_Travel']=pd.to_datetime(cab['Date_of_Travel'])"
   ]
  },
  {
   "cell_type": "code",
   "execution_count": 27,
   "id": "09420142",
   "metadata": {
    "scrolled": true
   },
   "outputs": [
    {
     "name": "stdout",
     "output_type": "stream",
     "text": [
      "<class 'pandas.core.frame.DataFrame'>\n",
      "RangeIndex: 359392 entries, 0 to 359391\n",
      "Data columns (total 7 columns):\n",
      " #   Column          Non-Null Count   Dtype         \n",
      "---  ------          --------------   -----         \n",
      " 0   Transaction_ID  359392 non-null  int64         \n",
      " 1   Date_of_Travel  359392 non-null  datetime64[ns]\n",
      " 2   Company         359392 non-null  object        \n",
      " 3   City            359392 non-null  object        \n",
      " 4   KM_Travelled    359392 non-null  float64       \n",
      " 5   Price_Charged   359392 non-null  float64       \n",
      " 6   Cost_of_Trip    359392 non-null  float64       \n",
      "dtypes: datetime64[ns](1), float64(3), int64(1), object(2)\n",
      "memory usage: 19.2+ MB\n"
     ]
    }
   ],
   "source": [
    "cab.info()"
   ]
  },
  {
   "cell_type": "markdown",
   "id": "75992611",
   "metadata": {},
   "source": [
    "<span style=\"font-size: 14pt; font-weight: bold; color:red\"> 2- delete the ',' and convert from population and user  and convert then into integer format</span>"
   ]
  },
  {
   "cell_type": "code",
   "execution_count": 28,
   "id": "5f3406ff",
   "metadata": {},
   "outputs": [],
   "source": [
    "# define function to remove commas and convert to int\n",
    "def clean_and_convert(value):\n",
    "    return int(value.replace(',', '').strip())"
   ]
  },
  {
   "cell_type": "code",
   "execution_count": 29,
   "id": "25a9723e",
   "metadata": {},
   "outputs": [],
   "source": [
    "city_col_to_int=['Population', 'Users']"
   ]
  },
  {
   "cell_type": "code",
   "execution_count": 30,
   "id": "7d6854e9",
   "metadata": {},
   "outputs": [],
   "source": [
    "city_clean=city.copy()\n",
    "city_clean[['Population', 'Users']]=city_clean[['Population', 'Users']].applymap(clean_and_convert)"
   ]
  },
  {
   "cell_type": "code",
   "execution_count": 31,
   "id": "56ce7a17",
   "metadata": {},
   "outputs": [
    {
     "name": "stdout",
     "output_type": "stream",
     "text": [
      "<class 'pandas.core.frame.DataFrame'>\n",
      "RangeIndex: 20 entries, 0 to 19\n",
      "Data columns (total 3 columns):\n",
      " #   Column      Non-Null Count  Dtype \n",
      "---  ------      --------------  ----- \n",
      " 0   City        20 non-null     object\n",
      " 1   Population  20 non-null     int64 \n",
      " 2   Users       20 non-null     int64 \n",
      "dtypes: int64(2), object(1)\n",
      "memory usage: 608.0+ bytes\n"
     ]
    }
   ],
   "source": [
    "city_clean.info()"
   ]
  },
  {
   "cell_type": "markdown",
   "id": "b58e193b",
   "metadata": {},
   "source": [
    "<span style=\"font-size:14pt; font-weight:bold; color:red\">TransactionID an cab_data coulb be join<\\span>"
   ]
  },
  {
   "cell_type": "code",
   "execution_count": 32,
   "id": "188af37e",
   "metadata": {},
   "outputs": [],
   "source": [
    "Transaction.columns = [col.replace(' ', '_') for col in Transaction.columns]\n",
    "city.columns = [col.replace(' ', '_') for col in city.columns]\n",
    "customer.columns = [col.replace(' ', '_') for col in customer.columns]\n"
   ]
  },
  {
   "cell_type": "code",
   "execution_count": 69,
   "id": "7eae4c3e",
   "metadata": {},
   "outputs": [],
   "source": [
    "transaction = pd.merge(cab, Transaction, on='Transaction_ID')"
   ]
  },
  {
   "cell_type": "code",
   "execution_count": 70,
   "id": "32302022",
   "metadata": {},
   "outputs": [],
   "source": [
    "dt=pd.merge(transaction,customer ,on='Customer_ID')"
   ]
  },
  {
   "cell_type": "code",
   "execution_count": 71,
   "id": "467553bf",
   "metadata": {},
   "outputs": [
    {
     "name": "stdout",
     "output_type": "stream",
     "text": [
      "<class 'pandas.core.frame.DataFrame'>\n",
      "Int64Index: 359392 entries, 0 to 359391\n",
      "Data columns (total 12 columns):\n",
      " #   Column              Non-Null Count   Dtype         \n",
      "---  ------              --------------   -----         \n",
      " 0   Transaction_ID      359392 non-null  int64         \n",
      " 1   Date_of_Travel      359392 non-null  datetime64[ns]\n",
      " 2   Company             359392 non-null  object        \n",
      " 3   City                359392 non-null  object        \n",
      " 4   KM_Travelled        359392 non-null  float64       \n",
      " 5   Price_Charged       359392 non-null  float64       \n",
      " 6   Cost_of_Trip        359392 non-null  float64       \n",
      " 7   Customer_ID         359392 non-null  int64         \n",
      " 8   Payment_Mode        359392 non-null  object        \n",
      " 9   Gender              359392 non-null  object        \n",
      " 10  Age                 359392 non-null  int64         \n",
      " 11  Income_(USD/Month)  359392 non-null  int64         \n",
      "dtypes: datetime64[ns](1), float64(3), int64(4), object(4)\n",
      "memory usage: 35.6+ MB\n"
     ]
    }
   ],
   "source": [
    "dt.info()"
   ]
  },
  {
   "cell_type": "code",
   "execution_count": 72,
   "id": "38b1eb88",
   "metadata": {},
   "outputs": [
    {
     "data": {
      "text/plain": [
       "0"
      ]
     },
     "execution_count": 72,
     "metadata": {},
     "output_type": "execute_result"
    }
   ],
   "source": [
    "dt.duplicated().sum()"
   ]
  },
  {
   "cell_type": "code",
   "execution_count": 73,
   "id": "d5535e57",
   "metadata": {},
   "outputs": [
    {
     "data": {
      "text/plain": [
       "<AxesSubplot:>"
      ]
     },
     "execution_count": 73,
     "metadata": {},
     "output_type": "execute_result"
    },
    {
     "data": {
      "image/png": "[encoded data removed]",
      "text/plain": [
       "<Figure size 2000x1000 with 1 Axes>"
      ]
     },
     "metadata": {},
     "output_type": "display_data"
    }
   ],
   "source": [
    "plt.figure(figsize=(20,10))\n",
    "sns.heatmap(dt.isna(), cbar=False)"
   ]
  },
  {
   "cell_type": "markdown",
   "id": "511515f4",
   "metadata": {},
   "source": [
    "#### Outliers detection"
   ]
  },
  {
   "cell_type": "markdown",
   "id": "2c03e0eb",
   "metadata": {},
   "source": [
    "## Data Analysing and visualisation"
   ]
  },
  {
   "cell_type": "markdown",
   "id": "cfd86348",
   "metadata": {},
   "source": [
    "### Univariate analysis"
   ]
  },
  {
   "cell_type": "code",
   "execution_count": 36,
   "id": "29738fcf",
   "metadata": {},
   "outputs": [
    {
     "data": {
      "image/png": "[encoded data removed]",
      "text/plain": [
       "<Figure size 640x480 with 1 Axes>"
      ]
     },
     "metadata": {},
     "output_type": "display_data"
    }
   ],
   "source": [
    "binsize = 200\n",
    "bins = np.arange(0,cab.Price_Charged.max()+binsize, binsize)\n",
    "plt.hist(cab.Price_Charged,bins=bins)\n",
    "plt.title('Price_Charged Distribution')\n",
    "plt.show() "
   ]
  },
  {
   "cell_type": "code",
   "execution_count": 74,
   "id": "6b0b0aff",
   "metadata": {},
   "outputs": [
    {
     "data": {
      "image/png": "[encoded data removed]",
      "text/plain": [
       "<Figure size 640x480 with 1 Axes>"
      ]
     },
     "metadata": {},
     "output_type": "display_data"
    }
   ],
   "source": [
    "binsize = 200\n",
    "bins = np.arange(0,cab.Cost_of_Trip.max()+binsize, binsize)\n",
    "plt.hist(cab.Cost_of_Trip)\n",
    "plt.title('Cost_of_Trip Distribution')\n",
    "plt.show() "
   ]
  },
  {
   "cell_type": "code",
   "execution_count": null,
   "id": "d7663316",
   "metadata": {},
   "outputs": [],
   "source": []
  },
  {
   "cell_type": "code",
   "execution_count": 38,
   "id": "856815d6",
   "metadata": {},
   "outputs": [
    {
     "data": {
      "image/png": "[encoded data removed]",
      "text/plain": [
       "<Figure size 640x480 with 1 Axes>"
      ]
     },
     "metadata": {},
     "output_type": "display_data"
    }
   ],
   "source": [
    "binsize = 20\n",
    "bins = np.arange(0,cab.KM_Travelled.max()+binsize, binsize)\n",
    "plt.hist(cab.KM_Travelled)\n",
    "plt.title('Cost_of_Trip Distribution')\n",
    "plt.show() "
   ]
  },
  {
   "cell_type": "code",
   "execution_count": 39,
   "id": "9191d8ff",
   "metadata": {},
   "outputs": [
    {
     "data": {
      "text/plain": [
       "<AxesSubplot:xlabel='KM_Travelled'>"
      ]
     },
     "execution_count": 39,
     "metadata": {},
     "output_type": "execute_result"
    },
    {
     "data": {
      "image/png": "[encoded data removed]",
      "text/plain": [
       "<Figure size 640x480 with 1 Axes>"
      ]
     },
     "metadata": {},
     "output_type": "display_data"
    }
   ],
   "source": [
    "sns.boxplot(x=cab.KM_Travelled)"
   ]
  },
  {
   "cell_type": "code",
   "execution_count": 40,
   "id": "b93f0b3c",
   "metadata": {},
   "outputs": [
    {
     "data": {
      "text/plain": [
       "<AxesSubplot:xlabel='Gender', ylabel='count'>"
      ]
     },
     "execution_count": 40,
     "metadata": {},
     "output_type": "execute_result"
    },
    {
     "data": {
      "image/png": "[encoded data removed]",
      "text/plain": [
       "<Figure size 640x480 with 1 Axes>"
      ]
     },
     "metadata": {},
     "output_type": "display_data"
    }
   ],
   "source": [
    "sns.countplot(x=customer.Gender)"
   ]
  },
  {
   "cell_type": "code",
   "execution_count": 41,
   "id": "546fe7b9",
   "metadata": {},
   "outputs": [
    {
     "data": {
      "text/plain": [
       "<AxesSubplot:xlabel='KM_Travelled'>"
      ]
     },
     "execution_count": 41,
     "metadata": {},
     "output_type": "execute_result"
    },
    {
     "data": {
      "image/png": "[encoded data removed]",
      "text/plain": [
       "<Figure size 640x480 with 1 Axes>"
      ]
     },
     "metadata": {},
     "output_type": "display_data"
    }
   ],
   "source": [
    "sns.boxplot(x=cab.KM_Travelled)"
   ]
  },
  {
   "cell_type": "code",
   "execution_count": 45,
   "id": "8192192b",
   "metadata": {},
   "outputs": [
    {
     "data": {
      "text/plain": [
       "<AxesSubplot:xlabel='Age'>"
      ]
     },
     "execution_count": 45,
     "metadata": {},
     "output_type": "execute_result"
    },
    {
     "data": {
      "image/png": "[encoded data removed]",
      "text/plain": [
       "<Figure size 640x480 with 1 Axes>"
      ]
     },
     "metadata": {},
     "output_type": "display_data"
    }
   ],
   "source": [
    "sns.violinplot(x=customer[\"Age\"])"
   ]
  },
  {
   "cell_type": "code",
   "execution_count": 47,
   "id": "1ed3ea49",
   "metadata": {},
   "outputs": [
    {
     "data": {
      "text/plain": [
       "<AxesSubplot:xlabel='Payment_Mode', ylabel='count'>"
      ]
     },
     "execution_count": 47,
     "metadata": {},
     "output_type": "execute_result"
    },
    {
     "data": {
      "image/png": "[encoded data removed]",
      "text/plain": [
       "<Figure size 640x480 with 1 Axes>"
      ]
     },
     "metadata": {},
     "output_type": "display_data"
    }
   ],
   "source": [
    "sns.countplot(x=Transaction.Payment_Mode)"
   ]
  },
  {
   "cell_type": "code",
   "execution_count": 50,
   "id": "3d59e95e",
   "metadata": {},
   "outputs": [
    {
     "data": {
      "text/plain": [
       "Index(['Customer_ID', 'Gender', 'Age', 'Income_(USD/Month)'], dtype='object')"
      ]
     },
     "execution_count": 50,
     "metadata": {},
     "output_type": "execute_result"
    }
   ],
   "source": [
    "customer.columns"
   ]
  },
  {
   "cell_type": "code",
   "execution_count": 54,
   "id": "d74cf17b",
   "metadata": {},
   "outputs": [
    {
     "data": {
      "image/png": "[encoded data removed]",
      "text/plain": [
       "<Figure size 640x480 with 1 Axes>"
      ]
     },
     "metadata": {},
     "output_type": "display_data"
    }
   ],
   "source": [
    "binsize = 20\n",
    "bins = np.arange(0,customer['Income_(USD/Month)'].max()+binsize, binsize)\n",
    "plt.hist(customer['Income_(USD/Month)'])\n",
    "plt.title('Cost_of_Trip Distribution')\n",
    "plt.show() "
   ]
  },
  {
   "cell_type": "code",
   "execution_count": 56,
   "id": "e7a018b3",
   "metadata": {},
   "outputs": [
    {
     "data": {
      "text/plain": [
       "<AxesSubplot:ylabel='Income_(USD/Month)'>"
      ]
     },
     "execution_count": 56,
     "metadata": {},
     "output_type": "execute_result"
    },
    {
     "data": {
      "image/png": "[encoded data removed]",
      "text/plain": [
       "<Figure size 640x480 with 1 Axes>"
      ]
     },
     "metadata": {},
     "output_type": "display_data"
    }
   ],
   "source": [
    "sns.boxplot(y=customer['Income_(USD/Month)'])"
   ]
  },
  {
   "cell_type": "markdown",
   "id": "ee3a736d",
   "metadata": {},
   "source": [
    "### Bivariate analysis,"
   ]
  },
  {
   "cell_type": "code",
   "execution_count": null,
   "id": "4d3675e7",
   "metadata": {},
   "outputs": [],
   "source": [
    "## NUMBER OF ACTIVE CUSTOMER ACCROSS YEAR BY COMPANY"
   ]
  },
  {
   "cell_type": "code",
   "execution_count": null,
   "id": "ee6d9dc6",
   "metadata": {},
   "outputs": [],
   "source": []
  },
  {
   "cell_type": "code",
   "execution_count": null,
   "id": "49ad5adc",
   "metadata": {},
   "outputs": [],
   "source": [
    "#CUSTOMER AGE BY COMPANY"
   ]
  },
  {
   "cell_type": "code",
   "execution_count": null,
   "id": "a213d2c3",
   "metadata": {},
   "outputs": [],
   "source": []
  },
  {
   "cell_type": "code",
   "execution_count": null,
   "id": "8240161b",
   "metadata": {},
   "outputs": [],
   "source": [
    "#pRICE-Cost of Trip TOTAL BY COMPANY"
   ]
  },
  {
   "cell_type": "code",
   "execution_count": 78,
   "id": "aedf2e89",
   "metadata": {},
   "outputs": [],
   "source": [
    "dt['benefice']=dt.Price_Charged-dt.Cost_of_Trip"
   ]
  },
  {
   "cell_type": "code",
   "execution_count": 82,
   "id": "56eae350",
   "metadata": {},
   "outputs": [
    {
     "data": {
      "text/plain": [
       "<AxesSubplot:ylabel='Company'>"
      ]
     },
     "execution_count": 82,
     "metadata": {},
     "output_type": "execute_result"
    },
    {
     "data": {
      "image/png": "[encoded data removed]",
      "text/plain": [
       "<Figure size 1000x600 with 1 Axes>"
      ]
     },
     "metadata": {},
     "output_type": "display_data"
    }
   ],
   "source": [
    "dt.groupby('Company')['benefice'].sum().plot(kind='barh',figsize = (10,6))"
   ]
  },
  {
   "cell_type": "code",
   "execution_count": 66,
   "id": "32b670c0",
   "metadata": {},
   "outputs": [
    {
     "data": {
      "text/plain": [
       "Index(['Transaction_ID', 'Date_of_Travel', 'Company', 'City', 'KM_Travelled',\n",
       "       'Price_Charged', 'Cost_of_Trip', 'Customer_ID', 'Payment_Mode',\n",
       "       'Gender', 'Age', 'Income_(USD/Month)'],\n",
       "      dtype='object')"
      ]
     },
     "execution_count": 66,
     "metadata": {},
     "output_type": "execute_result"
    }
   ],
   "source": [
    "dt.columns"
   ]
  },
  {
   "cell_type": "code",
   "execution_count": 75,
   "id": "ffd15f2a",
   "metadata": {},
   "outputs": [
    {
     "data": {
      "text/plain": [
       "array(['Pink Cab', 'Yellow Cab'], dtype=object)"
      ]
     },
     "execution_count": 75,
     "metadata": {},
     "output_type": "execute_result"
    }
   ],
   "source": [
    "dt.Company.unique()"
   ]
  },
  {
   "cell_type": "code",
   "execution_count": null,
   "id": "db5ea579",
   "metadata": {},
   "outputs": [],
   "source": [
    "#pRICE-Cost of Trip TOTAL BY YEAR BY COMPANY"
   ]
  },
  {
   "cell_type": "code",
   "execution_count": 85,
   "id": "a65bfc0e",
   "metadata": {},
   "outputs": [],
   "source": [
    "dt['year']=dt['Date_of_Travel'].apply( lambda x:x.strftime(\"%Y\"))"
   ]
  },
  {
   "cell_type": "code",
   "execution_count": 90,
   "id": "1415c524",
   "metadata": {},
   "outputs": [
    {
     "data": {
      "text/plain": [
       "Company     year\n",
       "Pink Cab    2016     68.321819\n",
       "            2017     67.070839\n",
       "            2018     53.229689\n",
       "Yellow Cab  2016    169.347821\n",
       "            2017    168.817057\n",
       "            2018    143.416122\n",
       "Name: benefice, dtype: float64"
      ]
     },
     "execution_count": 90,
     "metadata": {},
     "output_type": "execute_result"
    }
   ],
   "source": [
    "dt[['Company','year','benefice']].groupby(['Company','year'])['benefice'].mean()"
   ]
  },
  {
   "cell_type": "code",
   "execution_count": null,
   "id": "b2a8fc99",
   "metadata": {},
   "outputs": [],
   "source": [
    "#BY COMPANY , NUMBER OF TRANSACTION BY CITY"
   ]
  },
  {
   "cell_type": "code",
   "execution_count": 96,
   "id": "b81632d0",
   "metadata": {},
   "outputs": [
    {
     "data": {
      "text/plain": [
       "Company     City          \n",
       "Pink Cab    ATLANTA GA         1762\n",
       "            AUSTIN TX          1868\n",
       "            BOSTON MA          5186\n",
       "            CHICAGO IL         9361\n",
       "            DALLAS TX          1380\n",
       "            DENVER CO          1394\n",
       "            LOS ANGELES CA    19865\n",
       "            MIAMI FL           2002\n",
       "            NASHVILLE TN       1841\n",
       "            NEW YORK NY       13967\n",
       "            ORANGE COUNTY      1513\n",
       "            PHOENIX AZ          864\n",
       "            PITTSBURGH PA       682\n",
       "            SACRAMENTO CA      1334\n",
       "            SAN DIEGO CA      10672\n",
       "            SEATTLE WA         2732\n",
       "            SILICON VALLEY     3797\n",
       "            TUCSON AZ           799\n",
       "            WASHINGTON DC      3692\n",
       "Yellow Cab  ATLANTA GA         5795\n",
       "            AUSTIN TX          3028\n",
       "            BOSTON MA         24506\n",
       "            CHICAGO IL        47264\n",
       "            DALLAS TX          5637\n",
       "            DENVER CO          2431\n",
       "            LOS ANGELES CA    28168\n",
       "            MIAMI FL           4452\n",
       "            NASHVILLE TN       1169\n",
       "            NEW YORK NY       85918\n",
       "            ORANGE COUNTY      2469\n",
       "            PHOENIX AZ         1200\n",
       "            PITTSBURGH PA       631\n",
       "            SACRAMENTO CA      1033\n",
       "            SAN DIEGO CA       9816\n",
       "            SEATTLE WA         5265\n",
       "            SILICON VALLEY     4722\n",
       "            TUCSON AZ          1132\n",
       "            WASHINGTON DC     40045\n",
       "Name: Transaction_ID, dtype: int64"
      ]
     },
     "execution_count": 96,
     "metadata": {},
     "output_type": "execute_result"
    }
   ],
   "source": [
    "dt[['Transaction_ID','Company','City']].groupby(['Company','City']).Transaction_ID.count()"
   ]
  },
  {
   "cell_type": "code",
   "execution_count": null,
   "id": "70261e75",
   "metadata": {},
   "outputs": [],
   "source": [
    "# NUMBER OF TRANSACTIOM PER MONTH IN THE LAST YEAR"
   ]
  },
  {
   "cell_type": "code",
   "execution_count": null,
   "id": "4c83a22d",
   "metadata": {},
   "outputs": [],
   "source": []
  },
  {
   "cell_type": "markdown",
   "id": "8cf9b001",
   "metadata": {},
   "source": [
    "## Conclusion"
   ]
  },
  {
   "cell_type": "code",
   "execution_count": null,
   "id": "1bed2b92",
   "metadata": {},
   "outputs": [],
   "source": []
  }
 ],
 "metadata": {
  "kernelspec": {
   "display_name": "Python 3 (ipykernel)",
   "language": "python",
   "name": "python3"
  },
  "language_info": {
   "codemirror_mode": {
    "name": "ipython",
    "version": 3
   },
   "file_extension": ".py",
   "mimetype": "text/x-python",
   "name": "python",
   "nbconvert_exporter": "python",
   "pygments_lexer": "ipython3",
   "version": "3.7.15"
  }
 },
 "nbformat": 4,
 "nbformat_minor": 5
}
